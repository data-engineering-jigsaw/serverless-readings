{
 "cells": [
  {
   "cell_type": "markdown",
   "id": "fcd1a38f-6970-4604-99ce-6bffcb3fb0c8",
   "metadata": {},
   "source": [
    "# Serverless"
   ]
  },
  {
   "cell_type": "markdown",
   "id": "2f798cdd-6f6a-4a31-93f4-1bf88422d225",
   "metadata": {},
   "source": [
    "### Introduction"
   ]
  },
  {
   "cell_type": "markdown",
   "id": "14b27ad8-4b40-451f-8d3b-76d544ce88e5",
   "metadata": {},
   "source": [
    "In this lesson, we'll get started with infrastructure as code with the [serverless](https://www.serverless.com) framework.  Serverless is an infrastructure as code tool, meaning that it will allow us to create all of the resources that we need for our data pipeline, just by using some code."
   ]
  },
  {
   "cell_type": "markdown",
   "id": "513d8de0-0ccf-4a7f-a386-8cd25bd19559",
   "metadata": {},
   "source": [
    "In this lesson, we'll get started using serverless, and move through some of the benefits of infrastructure as code."
   ]
  },
  {
   "cell_type": "markdown",
   "id": "af199745-cb4f-4fc0-a59c-7406eded05a8",
   "metadata": {},
   "source": [
    "### Setting up serverless"
   ]
  },
  {
   "cell_type": "markdown",
   "id": "992c4fba-f204-4e9b-8d4f-8fab3adc578c",
   "metadata": {},
   "source": [
    "Serverless is a node library (node is a backend javascript library).  So to get started with serverless, we first need to node install node.\n",
    "\n",
    "On a mac, we can do so using homebrew:\n",
    "\n",
    "```bash\n",
    "brew install node\n",
    "```\n",
    "\n",
    "And then from there, we can install the serverless library.\n",
    "\n",
    "```bash\n",
    "npm install -g serverless\n",
    "```"
   ]
  },
  {
   "cell_type": "markdown",
   "id": "ea4d82de-194d-43cc-8bab-eb3fd2479894",
   "metadata": {},
   "source": [
    "You can check that it worked by just typing `serverless` into the command line.\n",
    "\n",
    "```bash\n",
    "serverless\n",
    "```"
   ]
  },
  {
   "cell_type": "markdown",
   "id": "a4510955-736e-4bbb-be8d-d0110140d374",
   "metadata": {},
   "source": [
    "> And then you can press `ctl+c` to exit."
   ]
  },
  {
   "cell_type": "markdown",
   "id": "f7641adc-b67d-4a04-9b85-dcf88df46b5a",
   "metadata": {},
   "source": [
    "### Serverless in an instant"
   ]
  },
  {
   "cell_type": "markdown",
   "id": "7b9ce0ca-4616-4199-a988-d2751b9a4814",
   "metadata": {},
   "source": [
    "Ok, now that we have serverless installed, let's move through a quick demo of serverless, so we can get a sense of what it is.  Let's say that for our project we need to set up a lambda function and an S3 bucket.  We can do so by placing the following in a `serverless.yml` file.  \n",
    "\n",
    "> You can see this file in the `1-lambda-fn` folder."
   ]
  },
  {
   "cell_type": "markdown",
   "id": "bbdeb2ad-a63e-4850-b211-03559c76a8d2",
   "metadata": {},
   "source": [
    "```yaml\n",
    "service: restaurants-app\n",
    "provider:\n",
    "  name: aws\n",
    "  stage: project\n",
    "  region: us-east-1\n",
    "functions:\n",
    "  txqueryfn:\n",
    "      handler: main.lambda_handler\n",
    "resources:\n",
    "  Resources:\n",
    "    S3Assets:\n",
    "      Type: AWS::S3::Bucket\n",
    "      Properties:\n",
    "        BucketName: txrestaurantreceipts\n",
    "```"
   ]
  },
  {
   "cell_type": "markdown",
   "id": "b4265562-af5a-4cc5-b2d9-b38c1e2d912c",
   "metadata": {},
   "source": [
    "The above creates a new lambda function called `txrestaurantreceipts` and also creates a bucket called `txquerybucketjigsaw`.\n",
    "\n",
    "> **Remember** you'll have to set a unique bucket name.\n",
    "\n",
    "We can create these services in our AWS account with something like the following."
   ]
  },
  {
   "cell_type": "markdown",
   "id": "ae1f9d6d-e690-4f8d-87d4-8b1a4f37b68c",
   "metadata": {},
   "source": [
    "<img src=\"./deploy-service.png\" width=\"70%\">"
   ]
  },
  {
   "cell_type": "markdown",
   "id": "56149a95-4377-47ca-8d7c-aef853fa59ee",
   "metadata": {},
   "source": [
    "Ok, let's take a look.\n",
    "\n",
    "If we go to the s3 we'll see our bucket created."
   ]
  },
  {
   "cell_type": "markdown",
   "id": "a50a6a6c-3d4c-418f-812c-8d0adbf9e1dd",
   "metadata": {},
   "source": [
    "> <img src=\"./tx-restaurant-receipts.png\" width=\"40%\">"
   ]
  },
  {
   "cell_type": "markdown",
   "id": "4c4209ab-23a4-4131-9ffc-4181a3155cb8",
   "metadata": {},
   "source": [
    "And we'll also see that we created our lambda function."
   ]
  },
  {
   "cell_type": "markdown",
   "id": "5fcc7f59-67ff-41d3-8a18-ff39ea42889c",
   "metadata": {},
   "source": [
    "> <img src=\"./restaurants-app-tx-query.png\" width=\"50%\">"
   ]
  },
  {
   "cell_type": "markdown",
   "id": "ed04038b-f18e-426f-8132-498660663893",
   "metadata": {},
   "source": [
    "We'll also see that it uploaded the code that we have locally in the `main.py` file."
   ]
  },
  {
   "cell_type": "markdown",
   "id": "68abf71c-0156-44cd-b54d-b99d85042031",
   "metadata": {},
   "source": [
    "<img src=\"./lambda-code.png\" width=\"70%\">"
   ]
  },
  {
   "cell_type": "markdown",
   "id": "b94f6f57-b580-49d4-a8bd-ccb181c2035d",
   "metadata": {},
   "source": [
    "Now remove all of the services in our project -- we can quickly do so with the following:"
   ]
  },
  {
   "cell_type": "markdown",
   "id": "f9840d71-cae4-428f-b8e5-de4276dea52f",
   "metadata": {},
   "source": [
    "```bash\n",
    "sls remove\n",
    "```\n"
   ]
  },
  {
   "cell_type": "markdown",
   "id": "b5157492-d83c-4504-bda2-2615c1c5aaf7",
   "metadata": {},
   "source": [
    "### Why Infrastructure as Code"
   ]
  },
  {
   "cell_type": "markdown",
   "id": "ff1c15c8-201a-4697-93e0-8dbcc40bd4b6",
   "metadata": {},
   "source": [
    "So perhaps by now you can get some of the benefits of infrastructure as code.\n",
    "\n",
    "> Remember, we were able to set up our lambda function, and s3 bucket with the following file and our `sls deploy` command."
   ]
  },
  {
   "cell_type": "markdown",
   "id": "78085b23-84f1-48c2-8363-e0fa56167f38",
   "metadata": {},
   "source": [
    "```yaml\n",
    "service: restaurants-app\n",
    "provider:\n",
    "  name: aws\n",
    "  stage: project\n",
    "  region: us-east-1\n",
    "functions:\n",
    "  txqueryfn:\n",
    "      handler: main.lambda_handler\n",
    "resources:\n",
    "  Resources:\n",
    "    S3Assets:\n",
    "      Type: AWS::S3::Bucket\n",
    "      Properties:\n",
    "        BucketName: txrestaurantreceipts\n",
    "```"
   ]
  },
  {
   "cell_type": "markdown",
   "id": "43e216c2-c4f9-4424-88d9-0645ba0eddde",
   "metadata": {},
   "source": [
    "With infrastructure as code, we can:\n",
    "* Explore our cloud architecture in a more readable fashion, by looking at our codebase.\n",
    "* Reproduce this architecture across different accounts or regions (remember we are doing this in us-east-1, but what if we wanted to reproduce this in a different region).\n",
    "* See changes to our infrastructure over time (by including our serverless.yml file in our git repository and seeing how it changed over time)\n",
    "* More easily debug our infrastructure (as all of the set up is stored in a single file)\n",
    "* Remove all services associated with a project (with the `sls remove` command)"
   ]
  },
  {
   "cell_type": "markdown",
   "id": "7421946f-1154-4962-b5fd-09e0d5ac3f77",
   "metadata": {},
   "source": [
    "Not bad at all."
   ]
  },
  {
   "cell_type": "markdown",
   "id": "4ef1ab1a-7a99-4db1-8187-19b62a5f2282",
   "metadata": {},
   "source": [
    "### Reading our yaml file"
   ]
  },
  {
   "cell_type": "markdown",
   "id": "088db391-472b-4151-98c4-4dcd957f6f94",
   "metadata": {},
   "source": [
    "Ok, now let's take another look at our yaml file, and try to understand what's going on."
   ]
  },
  {
   "cell_type": "markdown",
   "id": "ebf4bbae-6fdf-4b0b-946c-34ec894e596d",
   "metadata": {},
   "source": [
    "```yaml\n",
    "service: restaurants-app\n",
    "provider:\n",
    "  name: aws\n",
    "  stage: project\n",
    "  region: us-east-1\n",
    "functions:\n",
    "  txqueryfn:\n",
    "      handler: main.lambda_handler\n",
    "resources:\n",
    "  Resources:\n",
    "    S3Assets:\n",
    "      Type: AWS::S3::Bucket\n",
    "      Properties:\n",
    "        BucketName: txrestaurantreceipts\n",
    "```"
   ]
  },
  {
   "cell_type": "markdown",
   "id": "5e3f4dda-8831-4dbe-87a8-481c1761b8e2",
   "metadata": {},
   "source": [
    "The yaml file above should be fairly readable.  \n",
    "The service is name of our application (just no underscores), and under provider we specify aws and our region.  The `stage` is an AWS feature, that allows us to deploy an architecture for say testing, and production.\n",
    "\n",
    "And functions are where we list our lambda function.  "
   ]
  },
  {
   "cell_type": "markdown",
   "id": "93da9023-fcb2-49eb-be5b-042dca2a9d29",
   "metadata": {},
   "source": [
    "### Adding a trigger"
   ]
  },
  {
   "cell_type": "markdown",
   "id": "e405333a-0e23-4c9f-884d-afa9a7505cac",
   "metadata": {},
   "source": [
    "Ok, we can update our `serverless.yml` file so that it's triggered by an upload to the s3 bucket with the following."
   ]
  },
  {
   "cell_type": "markdown",
   "id": "ba1e7b91-7bcc-4a44-bf45-59111cef9cd1",
   "metadata": {},
   "source": [
    "```yaml\n",
    "service: restaurants-app\n",
    "provider:\n",
    "  name: aws\n",
    "  runtime: python3.9\n",
    "  stage: project\n",
    "  region: us-east-1\n",
    "  iam:\n",
    "    role:\n",
    "      statements:\n",
    "        - Effect: Allow\n",
    "          Action:\n",
    "            - 's3:GetObject'\n",
    "          Resource:\n",
    "            - 'arn:aws:s3:::txrestaurantreceipts/*'\n",
    "functions:\n",
    "  getreceipts:\n",
    "    handler: main.lambda_handler\n",
    "    events:\n",
    "      - s3:\n",
    "          bucket: txrestaurantreceipts\n",
    "          event: s3:ObjectCreated:*\n",
    "```"
   ]
  },
  {
   "cell_type": "markdown",
   "id": "ec668ff5-70db-4bee-bf6e-bb71a6eee5a9",
   "metadata": {},
   "source": [
    "Ok, so there are two changes here. \n",
    "\n",
    "* First, at the bottom you can see that under the function we have an `events` listed, which specifies our lambda function should be triggered when s3 object is created.\n",
    "\n",
    "* Second is that we set a permission to allow our lambda function to read objects.  We specify the permission under the `provider` section, and the permissions will be granted to all functions in the yml file."
   ]
  },
  {
   "cell_type": "markdown",
   "id": "860b4d95-82fc-4391-a376-be0710629b1e",
   "metadata": {},
   "source": [
    "> **Notice** that this time we do not have a *resources* key.  The bucket will automatically be created because it's listed under `events`.  "
   ]
  },
  {
   "cell_type": "markdown",
   "id": "67f790df-3a72-46e8-8064-5c7f5566a83f",
   "metadata": {},
   "source": [
    "If you go to `2-lambda-fn-trigger`, you'll see the corresponding code.  And if you cd into that folder and type `sls deploy` you'll see services deployed to your aws account (just change the bucket names)."
   ]
  },
  {
   "cell_type": "markdown",
   "id": "6c35f658-6426-4f37-9d93-6a0df67cfa1f",
   "metadata": {},
   "source": [
    "> <img src=\"./updated-trigger.png\" width=\"60%\">"
   ]
  },
  {
   "cell_type": "markdown",
   "id": "f3cd5823-46d9-4217-a49c-279ccc401e39",
   "metadata": {},
   "source": [
    "> And importantly, if you click on the role associated with the lambda, you can see that adding our Get object permission added the permission to our lambda function."
   ]
  },
  {
   "cell_type": "markdown",
   "id": "bcdbc24e-8cb8-4dee-b65b-37dec1349363",
   "metadata": {},
   "source": [
    "<img src=\"./specify-permissions.png\">"
   ]
  },
  {
   "cell_type": "markdown",
   "id": "0a937a67-0ed5-42bb-a41b-e71d07212c47",
   "metadata": {},
   "source": [
    "### Migrating to Docker"
   ]
  },
  {
   "cell_type": "markdown",
   "id": "5733c206-1122-4b1d-80ea-08d74acc5766",
   "metadata": {},
   "source": [
    "Ok, now remember that with our lambda functions, we'll often need to dockerize them.  This is because as our lambda functions require libraries like the `requests` library, `pandas` or other dependencies, we'll need them in our lambda function's environment. "
   ]
  },
  {
   "cell_type": "markdown",
   "id": "ebc04ba6-46c3-451c-a21e-c5ac57d3b1b3",
   "metadata": {},
   "source": [
    "Remember, that do dockerize our lambda function, we first need to upload our image to the elastic container registry in AWS."
   ]
  },
  {
   "cell_type": "markdown",
   "id": "1062fb65-7b71-443f-88d7-74c7d00f67a3",
   "metadata": {},
   "source": [
    "> <img src=\"./aws-ecr.png\" width=\"70%\">"
   ]
  },
  {
   "cell_type": "markdown",
   "id": "a62259f1-2c17-4798-98c9-36ec44217ec8",
   "metadata": {},
   "source": [
    "And then from there, we associate that image which is loaded up to ECR with a lambda function."
   ]
  },
  {
   "cell_type": "markdown",
   "id": "4defe202-e0b2-4f66-8281-f0e46fd3babb",
   "metadata": {},
   "source": [
    "> <img src=\"./fn-image.png\" width=\"90%\">"
   ]
  },
  {
   "cell_type": "markdown",
   "id": "213d36db-d82e-444f-b666-8e2ade72041e",
   "metadata": {},
   "source": [
    "With our serverless.yml file, the steps are the same.  You can see how we do this in the `3-lambda-docker` folder.   \n",
    "\n",
    "* Under `provider`, we now added the following to add our image to ECR:"
   ]
  },
  {
   "cell_type": "markdown",
   "id": "dc15eca5-103d-42cf-a880-7214681a3fc5",
   "metadata": {},
   "source": [
    "```yaml\n",
    "ecr:\n",
    "    images:\n",
    "      querytxreceipts:\n",
    "        path: ./\n",
    "```"
   ]
  },
  {
   "cell_type": "markdown",
   "id": "64f16395-4c47-4ca5-b7bc-1fa86bf3270c",
   "metadata": {},
   "source": [
    "And with `path`, we specify that the Dockerfile is located in the same path as our `serverless.yml` file.\n",
    "\n",
    "* Under functions, we now just specify the image name.\n",
    "\n",
    "```yaml\n",
    "functions:\n",
    "  getreceipts:\n",
    "    image:\n",
    "      name: querytxreceipts\n",
    "```\n",
    "\n",
    "* Under `provider` we specified `architecture: arm64`.  This is for those who are building the image on a mac m1 or m2.  If you are not, you can remove this.\n",
    "\n",
    "Notice that we no longer need to specify the handler, which we did in previous serverless files.  This is because the handler is specified at the end of our Dockerfile."
   ]
  },
  {
   "cell_type": "markdown",
   "id": "8030551e-e47d-48e4-92a7-0679254e1d52",
   "metadata": {},
   "source": [
    "If you call `sls deploy`, you can see the steps that serverless will do for us.  First it will create an image on your laptop named `querytxreceipts` (type `docker image ls` to see this).  Then it will create an ECR repo, tag the image with the repo name, and then push this image up to ECR.\n",
    "\n",
    "If you go to the ECR service, you'll see a repo derived from our service's name.  "
   ]
  },
  {
   "cell_type": "markdown",
   "id": "291bbfa1-0888-4557-8d1b-3a222790def9",
   "metadata": {},
   "source": [
    "> <img src=\"./serverless-repo.png\">"
   ]
  },
  {
   "cell_type": "markdown",
   "id": "09813dc7-8635-4cbf-a173-3e0e1b7dcd14",
   "metadata": {},
   "source": [
    "And then if you click on that repo, you'll see the image."
   ]
  },
  {
   "cell_type": "markdown",
   "id": "123c2d63-544c-49b5-a54a-5dfa35b70c5a",
   "metadata": {},
   "source": [
    "> <img src=\"./querytx.png\">"
   ]
  },
  {
   "cell_type": "markdown",
   "id": "a61fb33c-325f-4e01-b6b4-d0dd207edd18",
   "metadata": {},
   "source": [
    "And if you go to the lambda function, you'll see a lambda function associated with that image."
   ]
  },
  {
   "cell_type": "markdown",
   "id": "3efe900b-641a-4f55-909f-b32a6564eca9",
   "metadata": {},
   "source": [
    "<img src=\"./displayed.png\">"
   ]
  },
  {
   "cell_type": "markdown",
   "id": "f00c8e49-dbb1-46ef-b2e0-3bdb54bfcdf9",
   "metadata": {},
   "source": [
    "And if you upload a file to the related s3 bucket, and then go to cloudwatch you can see that the function was called."
   ]
  },
  {
   "cell_type": "markdown",
   "id": "48069ed0-dd2e-40ee-95c1-489c76833855",
   "metadata": {},
   "source": [
    "> <img src=\"./cloudwatch.png\">"
   ]
  },
  {
   "cell_type": "markdown",
   "id": "be3af660-c635-4138-85aa-e8ec0a7d6783",
   "metadata": {},
   "source": [
    "Clean up your resources by typing `sls remove`."
   ]
  },
  {
   "cell_type": "markdown",
   "id": "cef5f34e-7d64-4e36-aaee-322d95ece175",
   "metadata": {},
   "source": [
    "### Resources\n",
    "\n",
    "[Serverless](https://aws.amazon.com/blogs/opensource/simplify-development-using-aws-lambda-container-image-with-a-serverless-framework/)\n",
    "\n",
    "[Serverless AWS S3 trigger](https://www.serverless.com/framework/docs/providers/aws/events/s3)\n",
    "\n",
    "[Serverless vs Terraform](https://openupthecloud.com/serverless-approaches-comparison/)"
   ]
  }
 ],
 "metadata": {
  "kernelspec": {
   "display_name": "Python 3 (ipykernel)",
   "language": "python",
   "name": "python3"
  },
  "language_info": {
   "codemirror_mode": {
    "name": "ipython",
    "version": 3
   },
   "file_extension": ".py",
   "mimetype": "text/x-python",
   "name": "python",
   "nbconvert_exporter": "python",
   "pygments_lexer": "ipython3",
   "version": "3.9.12"
  }
 },
 "nbformat": 4,
 "nbformat_minor": 5
}
