{
 "cells": [
  {
   "cell_type": "markdown",
   "id": "fcd1a38f-6970-4604-99ce-6bffcb3fb0c8",
   "metadata": {},
   "source": [
    "# Serverless with Docker"
   ]
  },
  {
   "cell_type": "markdown",
   "id": "2f798cdd-6f6a-4a31-93f4-1bf88422d225",
   "metadata": {},
   "source": [
    "### Introduction"
   ]
  },
  {
   "cell_type": "markdown",
   "id": "755701de-95c4-4b39-96e3-2f5c9035afb0",
   "metadata": {},
   "source": [
    "In the last lesson, we saw how we can use serverless to build some of our AWS infrastructure.  In this lesson, we'll review how this works, and see how we can use serverless to build and deploy a docker image to AWS's elastic container registry, and then connect this container to our lambda function."
   ]
  },
  {
   "cell_type": "markdown",
   "id": "93da9023-fcb2-49eb-be5b-042dca2a9d29",
   "metadata": {},
   "source": [
    "### Reviewing our serverless file"
   ]
  },
  {
   "cell_type": "markdown",
   "id": "e405333a-0e23-4c9f-884d-afa9a7505cac",
   "metadata": {},
   "source": [
    "Remember that we left off with a serverless file that built a lambda function that is triggered by an upload to an S3 bucket."
   ]
  },
  {
   "cell_type": "markdown",
   "id": "6c35f658-6426-4f37-9d93-6a0df67cfa1f",
   "metadata": {},
   "source": [
    "> <img src=\"./updated-trigger.png\" width=\"60%\">"
   ]
  },
  {
   "cell_type": "markdown",
   "id": "c19ff3ab-c586-4e94-bb85-52dc57a11a0c",
   "metadata": {},
   "source": [
    "And also established the correct permissions so our lambda could read from the bucket."
   ]
  },
  {
   "cell_type": "markdown",
   "id": "bcdbc24e-8cb8-4dee-b65b-37dec1349363",
   "metadata": {},
   "source": [
    "<img src=\"./specify-permissions.png\">"
   ]
  },
  {
   "cell_type": "markdown",
   "id": "0516c0a5-2b18-4204-a3ef-972b1d5ef73e",
   "metadata": {},
   "source": [
    "And we accomplished this with the following `serverless.yml` file."
   ]
  },
  {
   "cell_type": "markdown",
   "id": "ba1e7b91-7bcc-4a44-bf45-59111cef9cd1",
   "metadata": {},
   "source": [
    "```yaml\n",
    "service: restaurants-app\n",
    "provider:\n",
    "  name: aws\n",
    "  runtime: python3.9\n",
    "  stage: project\n",
    "  region: us-east-1\n",
    "  iam:\n",
    "    role:\n",
    "      statements:\n",
    "        - Effect: Allow\n",
    "          Action:\n",
    "            - 's3:GetObject'\n",
    "          Resource:\n",
    "            - 'arn:aws:s3:::txrestaurantreceipts/*'\n",
    "functions:\n",
    "  getreceipts:\n",
    "    handler: main.lambda_handler\n",
    "    events:\n",
    "      - s3:\n",
    "          bucket: txrestaurantreceipts\n",
    "          event: s3:ObjectCreated:*\n",
    "```"
   ]
  },
  {
   "cell_type": "markdown",
   "id": "0a937a67-0ed5-42bb-a41b-e71d07212c47",
   "metadata": {},
   "source": [
    "### Migrating to Docker"
   ]
  },
  {
   "cell_type": "markdown",
   "id": "5733c206-1122-4b1d-80ea-08d74acc5766",
   "metadata": {},
   "source": [
    "Ok, so now let's see how we can use serverless to dockerize our applications. \n",
    "\n",
    "Before getting into that, remember why we may want to use docker in the first place.  Remember that our lambda functions may require libraries like the `requests` library, `pandas` or other dependencies that we'll need in our lambda function's environment. "
   ]
  },
  {
   "cell_type": "markdown",
   "id": "ebc04ba6-46c3-451c-a21e-c5ac57d3b1b3",
   "metadata": {},
   "source": [
    "And to dockerize our lambda function (without serverless) we first need to upload our image to the elastic container registry in AWS."
   ]
  },
  {
   "cell_type": "markdown",
   "id": "1062fb65-7b71-443f-88d7-74c7d00f67a3",
   "metadata": {},
   "source": [
    "> <img src=\"./aws-ecr.png\" width=\"70%\">"
   ]
  },
  {
   "cell_type": "markdown",
   "id": "a62259f1-2c17-4798-98c9-36ec44217ec8",
   "metadata": {},
   "source": [
    "And then from there, we associate that uploaded image to our lambda."
   ]
  },
  {
   "cell_type": "markdown",
   "id": "4defe202-e0b2-4f66-8281-f0e46fd3babb",
   "metadata": {},
   "source": [
    "> <img src=\"./fn-image.png\" width=\"90%\">"
   ]
  },
  {
   "cell_type": "markdown",
   "id": "213d36db-d82e-444f-b666-8e2ade72041e",
   "metadata": {},
   "source": [
    "With our `serverless.yml` file, the steps are the same.  You can see how we do this in the `3-lambda-docker` folder.   "
   ]
  },
  {
   "cell_type": "markdown",
   "id": "d41e5f8c-153b-4de8-a8e5-35711e46c444",
   "metadata": {},
   "source": [
    "### Our new serverless"
   ]
  },
  {
   "cell_type": "markdown",
   "id": "30f468ce-b1f8-4298-b342-56eca48fd036",
   "metadata": {},
   "source": [
    "Ok, so this is what our new `serverless.yml` file looks like."
   ]
  },
  {
   "cell_type": "markdown",
   "id": "73cfc8d2-20d9-43db-9f96-3b0792ac7167",
   "metadata": {},
   "source": [
    "```yaml\n",
    "service: restaurants-app\n",
    "provider:\n",
    "  name: aws\n",
    "  stage: project\n",
    "  runtime: python3.9\n",
    "  architecture: arm64\n",
    "  region: us-east-1\n",
    "  ecr:\n",
    "    images:\n",
    "      querytxreceipts:\n",
    "        path: ./\n",
    "  iam:\n",
    "    role:\n",
    "      statements:\n",
    "        - Effect: Allow\n",
    "          Action:\n",
    "            - s3:GetObject\n",
    "          Resource:\n",
    "            - arn:aws:s3:::txrestaurantreceipts/*\n",
    "functions:\n",
    "  getreceipts:\n",
    "    image:\n",
    "      name: querytxreceipts\n",
    "    events:\n",
    "      - s3:\n",
    "          bucket: txrestaurantreceipts\n",
    "          event: s3:ObjectCreated:*\n",
    "```"
   ]
  },
  {
   "cell_type": "markdown",
   "id": "81401cdb-3a68-445b-8498-f6ea659b436d",
   "metadata": {},
   "source": [
    "These are the changes that we made."
   ]
  },
  {
   "cell_type": "markdown",
   "id": "305e734f-1a75-4f1f-9b8d-b9505e06c246",
   "metadata": {},
   "source": [
    "* Under `provider`, we now added the following to add our image to ECR:"
   ]
  },
  {
   "cell_type": "markdown",
   "id": "dc15eca5-103d-42cf-a880-7214681a3fc5",
   "metadata": {},
   "source": [
    "```yaml\n",
    "ecr:\n",
    "    images:\n",
    "      querytxreceipts:\n",
    "        path: ./\n",
    "```"
   ]
  },
  {
   "cell_type": "markdown",
   "id": "64f16395-4c47-4ca5-b7bc-1fa86bf3270c",
   "metadata": {},
   "source": [
    "> With `path`, we specify that the Dockerfile is located in the same path as our `serverless.yml` file.\n",
    "\n",
    "* Under `provider` we also specified  `architecture: arm64`.  This is for those who are building the image on a mac m1 or m2.  If you are not, you can remove this.\n",
    "\n",
    "* Under functions, we now just specify the image name.\n",
    "\n",
    "```yaml\n",
    "functions:\n",
    "  getreceipts:\n",
    "    image:\n",
    "      name: querytxreceipts\n",
    "```\n",
    "\n",
    "Notice that we no longer need to specify the handler, which we did in previous `serverless.yml` file.  This is because the handler is specified at the end of our Dockerfile."
   ]
  },
  {
   "cell_type": "markdown",
   "id": "08db01e4-3951-4b61-addc-6cdb8b008861",
   "metadata": {},
   "source": [
    "### Deploying our IAC"
   ]
  },
  {
   "cell_type": "markdown",
   "id": "7d2e4c05-0d79-4d6c-83ee-723d98ed21b7",
   "metadata": {},
   "source": [
    "Ok, so now when we call `sls deploy`, a number of steps occur."
   ]
  },
  {
   "cell_type": "markdown",
   "id": "f19e79bf-ef44-4de1-b8c5-45ef325df179",
   "metadata": {},
   "source": [
    "1. First serverless will look for a Dockerfile in the same directory as the `serverless.yml` file.  Remember that it does this because of the following lines.\n",
    "\n",
    "```yaml    \n",
    "ecr:\n",
    "    images:\n",
    "      querytxreceipts:\n",
    "        path: ./\n",
    "```"
   ]
  },
  {
   "cell_type": "markdown",
   "id": "7b896f76-1f9d-4140-b10e-1e60dfd3f166",
   "metadata": {},
   "source": [
    "2. Then serverless will build an image on your laptop named `querytxreceipts`.  Type `docker image ls` to see this.  \n",
    "\n",
    "Let's pause to look at the Dockerfile that serverless is using."
   ]
  },
  {
   "cell_type": "markdown",
   "id": "31aa1568-4795-4b9e-99e1-c36637bb01f2",
   "metadata": {},
   "source": [
    "```Dockerfile\n",
    "FROM public.ecr.aws/lambda/python:3.9-arm64\n",
    "\n",
    "COPY ./src/requirements.txt ./\n",
    "RUN pip3 install -r requirements.txt\n",
    "COPY ./src/main.py ./\n",
    "\n",
    "CMD [\"main.lambda_handler\"]\n",
    "```"
   ]
  },
  {
   "cell_type": "markdown",
   "id": "79fc7e58-a2a1-43d0-a6f9-db039cda8acf",
   "metadata": {},
   "source": [
    "So you can see that we are using lambda as the base image, installing the libraries specified in `requirements.txt`, copying the `main.py` file with our lambda function, and then specifying that this `main.lambda_handler` is the function to be called when we invoke our lambda.\n",
    "\n",
    "Ok, let's keep going."
   ]
  },
  {
   "cell_type": "markdown",
   "id": "9a810367-a180-4070-9d81-0b1d17e29811",
   "metadata": {},
   "source": [
    "3. Serverless will then create an ECR repo, tag the image with the repo name, and then push this image up to ECR."
   ]
  },
  {
   "cell_type": "markdown",
   "id": "8030551e-e47d-48e4-92a7-0679254e1d52",
   "metadata": {},
   "source": [
    "If you go to the ECR service, you'll see a repo derived from our service's name.  "
   ]
  },
  {
   "cell_type": "markdown",
   "id": "291bbfa1-0888-4557-8d1b-3a222790def9",
   "metadata": {},
   "source": [
    "> <img src=\"./serverless-repo.png\">"
   ]
  },
  {
   "cell_type": "markdown",
   "id": "09813dc7-8635-4cbf-a173-3e0e1b7dcd14",
   "metadata": {},
   "source": [
    "And then if you click on that repo, you'll see the image."
   ]
  },
  {
   "cell_type": "markdown",
   "id": "123c2d63-544c-49b5-a54a-5dfa35b70c5a",
   "metadata": {},
   "source": [
    "> <img src=\"./querytx.png\">"
   ]
  },
  {
   "cell_type": "markdown",
   "id": "043f64bb-7ecf-443d-bb8a-195fe024dc2d",
   "metadata": {},
   "source": [
    "4. Serverless will connect the lambda function to the image."
   ]
  },
  {
   "cell_type": "markdown",
   "id": "a61fb33c-325f-4e01-b6b4-d0dd207edd18",
   "metadata": {},
   "source": [
    "So if you go to the lambda function, you'll see a that it's using our image."
   ]
  },
  {
   "cell_type": "markdown",
   "id": "3efe900b-641a-4f55-909f-b32a6564eca9",
   "metadata": {},
   "source": [
    "<img src=\"./displayed.png\">"
   ]
  },
  {
   "cell_type": "markdown",
   "id": "242ec417-13a0-449d-87c7-2cf9ef7ff95b",
   "metadata": {},
   "source": [
    "* Triggering the lambda"
   ]
  },
  {
   "cell_type": "markdown",
   "id": "f00c8e49-dbb1-46ef-b2e0-3bdb54bfcdf9",
   "metadata": {},
   "source": [
    "And if you upload a file to the related s3 bucket, and then go to cloudwatch you can see that the function was called."
   ]
  },
  {
   "cell_type": "markdown",
   "id": "48069ed0-dd2e-40ee-95c1-489c76833855",
   "metadata": {},
   "source": [
    "> <img src=\"./cloudwatch.png\">"
   ]
  },
  {
   "cell_type": "markdown",
   "id": "be3af660-c635-4138-85aa-e8ec0a7d6783",
   "metadata": {},
   "source": [
    "Ok, nice job. Time to clean up your mess. \n",
    "\n",
    "* `sls remove`"
   ]
  },
  {
   "cell_type": "markdown",
   "id": "cef5f34e-7d64-4e36-aaee-322d95ece175",
   "metadata": {},
   "source": [
    "### Resources\n",
    "\n",
    "[Serverless](https://aws.amazon.com/blogs/opensource/simplify-development-using-aws-lambda-container-image-with-a-serverless-framework/)\n",
    "\n",
    "[Serverless AWS S3 trigger](https://www.serverless.com/framework/docs/providers/aws/events/s3)\n",
    "\n",
    "[Serverless vs Terraform](https://openupthecloud.com/serverless-approaches-comparison/)"
   ]
  }
 ],
 "metadata": {
  "kernelspec": {
   "display_name": "Python 3 (ipykernel)",
   "language": "python",
   "name": "python3"
  },
  "language_info": {
   "codemirror_mode": {
    "name": "ipython",
    "version": 3
   },
   "file_extension": ".py",
   "mimetype": "text/x-python",
   "name": "python",
   "nbconvert_exporter": "python",
   "pygments_lexer": "ipython3",
   "version": "3.9.12"
  }
 },
 "nbformat": 4,
 "nbformat_minor": 5
}
