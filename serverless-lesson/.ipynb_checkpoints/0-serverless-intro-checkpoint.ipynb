{
 "cells": [
  {
   "cell_type": "markdown",
   "id": "fcd1a38f-6970-4604-99ce-6bffcb3fb0c8",
   "metadata": {},
   "source": [
    "# Serverless"
   ]
  },
  {
   "cell_type": "markdown",
   "id": "2f798cdd-6f6a-4a31-93f4-1bf88422d225",
   "metadata": {},
   "source": [
    "### Introduction"
   ]
  },
  {
   "cell_type": "markdown",
   "id": "14b27ad8-4b40-451f-8d3b-76d544ce88e5",
   "metadata": {},
   "source": [
    "In this lesson, we'll get started with infrastructure as code with the [serverless](https://www.serverless.com) framework.  Serverless is an infrastructure as code tool, meaning that it will allow us to create all of the resources that we need for our data pipeline, just by using some code."
   ]
  },
  {
   "cell_type": "markdown",
   "id": "513d8de0-0ccf-4a7f-a386-8cd25bd19559",
   "metadata": {},
   "source": [
    "In this lesson, we'll get started using serverless, and move through some of the benefits of infrastructure as code."
   ]
  },
  {
   "cell_type": "markdown",
   "id": "af199745-cb4f-4fc0-a59c-7406eded05a8",
   "metadata": {},
   "source": [
    "### Setting up serverless"
   ]
  },
  {
   "cell_type": "markdown",
   "id": "992c4fba-f204-4e9b-8d4f-8fab3adc578c",
   "metadata": {},
   "source": [
    "Serverless is a node library (node is a backend javascript library).  So to get started with serverless, we first need to node install node.\n",
    "\n",
    "On a mac, we can do so using homebrew:\n",
    "\n",
    "```bash\n",
    "brew install node\n",
    "```\n",
    "\n",
    "And then from there, we can install the serverless library.\n",
    "\n",
    "```bash\n",
    "npm install -g serverless\n",
    "```"
   ]
  },
  {
   "cell_type": "markdown",
   "id": "ea4d82de-194d-43cc-8bab-eb3fd2479894",
   "metadata": {},
   "source": [
    "You can check that it worked by just typing `serverless` into the command line.\n",
    "\n",
    "```bash\n",
    "serverless\n",
    "```"
   ]
  },
  {
   "cell_type": "markdown",
   "id": "a4510955-736e-4bbb-be8d-d0110140d374",
   "metadata": {},
   "source": [
    "> And then you can press `ctl+c` to exit."
   ]
  },
  {
   "cell_type": "markdown",
   "id": "f7641adc-b67d-4a04-9b85-dcf88df46b5a",
   "metadata": {},
   "source": [
    "### Serverless in an instant"
   ]
  },
  {
   "cell_type": "markdown",
   "id": "7b9ce0ca-4616-4199-a988-d2751b9a4814",
   "metadata": {},
   "source": [
    "Ok, now that we have serverless installed, let's move through a quick demo.  Let's say that we want to set up a lambda function and an S3 bucket.  We can do so by placing the following in a `serverless.yml` file.  \n",
    "\n",
    "> You can see this file in the `1-lambda-fn` folder."
   ]
  },
  {
   "cell_type": "markdown",
   "id": "bbdeb2ad-a63e-4850-b211-03559c76a8d2",
   "metadata": {},
   "source": [
    "```yaml\n",
    "service: restaurants-app\n",
    "provider:\n",
    "  name: aws\n",
    "  stage: project\n",
    "  region: us-east-1\n",
    "functions:\n",
    "  txqueryfn:\n",
    "      handler: main.lambda_handler\n",
    "resources:\n",
    "  Resources:\n",
    "    S3Assets:\n",
    "      Type: AWS::S3::Bucket\n",
    "      Properties:\n",
    "        BucketName: txrestaurantreceipts\n",
    "```"
   ]
  },
  {
   "cell_type": "markdown",
   "id": "b4265562-af5a-4cc5-b2d9-b38c1e2d912c",
   "metadata": {},
   "source": [
    "The above creates a new lambda function called `txqueryfn` and also creates a bucket called `txrestaurantreceipts`.\n",
    "\n",
    "> **Remember** you'll have to set a unique bucket name.\n",
    "\n",
    "We can create these services in our AWS account with something like the following."
   ]
  },
  {
   "cell_type": "markdown",
   "id": "ae1f9d6d-e690-4f8d-87d4-8b1a4f37b68c",
   "metadata": {},
   "source": [
    "<img src=\"./deploy-service.png\" width=\"70%\">"
   ]
  },
  {
   "cell_type": "markdown",
   "id": "56149a95-4377-47ca-8d7c-aef853fa59ee",
   "metadata": {},
   "source": [
    "Ok, let's take a look.\n",
    "\n",
    "If we go to the s3 we'll see our bucket created."
   ]
  },
  {
   "cell_type": "markdown",
   "id": "a50a6a6c-3d4c-418f-812c-8d0adbf9e1dd",
   "metadata": {},
   "source": [
    "> <img src=\"./tx-restaurant-receipts.png\" width=\"40%\">"
   ]
  },
  {
   "cell_type": "markdown",
   "id": "4c4209ab-23a4-4131-9ffc-4181a3155cb8",
   "metadata": {},
   "source": [
    "And we'll also see that we created our lambda function."
   ]
  },
  {
   "cell_type": "markdown",
   "id": "5fcc7f59-67ff-41d3-8a18-ff39ea42889c",
   "metadata": {},
   "source": [
    "> <img src=\"./restaurants-app-tx-query.png\" width=\"50%\">"
   ]
  },
  {
   "cell_type": "markdown",
   "id": "ed04038b-f18e-426f-8132-498660663893",
   "metadata": {},
   "source": [
    "We'll also see that it uploaded the code that we have locally in the `main.py` file."
   ]
  },
  {
   "cell_type": "markdown",
   "id": "68abf71c-0156-44cd-b54d-b99d85042031",
   "metadata": {},
   "source": [
    "<img src=\"./lambda-code.png\" width=\"70%\">"
   ]
  },
  {
   "cell_type": "markdown",
   "id": "b94f6f57-b580-49d4-a8bd-ccb181c2035d",
   "metadata": {},
   "source": [
    "Now remove all of the services in our project -- we can quickly do so with the following:"
   ]
  },
  {
   "cell_type": "markdown",
   "id": "f9840d71-cae4-428f-b8e5-de4276dea52f",
   "metadata": {},
   "source": [
    "```bash\n",
    "sls remove\n",
    "```\n"
   ]
  },
  {
   "cell_type": "markdown",
   "id": "b5157492-d83c-4504-bda2-2615c1c5aaf7",
   "metadata": {},
   "source": [
    "### Why Infrastructure as Code"
   ]
  },
  {
   "cell_type": "markdown",
   "id": "ff1c15c8-201a-4697-93e0-8dbcc40bd4b6",
   "metadata": {},
   "source": [
    "So perhaps by now you can get some of the benefits of infrastructure as code."
   ]
  },
  {
   "cell_type": "markdown",
   "id": "43e216c2-c4f9-4424-88d9-0645ba0eddde",
   "metadata": {},
   "source": [
    "With infrastructure as code, we can:\n",
    "* Explore our cloud architecture in a more readable fashion, by looking at serverless.yml file.\n",
    "* Reproduce this architecture across different accounts or regions (remember we are doing this in us-east-1, but what if we wanted to reproduce this in a different region).\n",
    "* See changes to our infrastructure over time (by including our serverless.yml file in our git repository and seeing the git commits associated with that file)\n",
    "* More easily debug our infrastructure (as all of the set up is stored in a single file)\n",
    "* Remove all services associated with a project (with the `sls remove` command)"
   ]
  },
  {
   "cell_type": "markdown",
   "id": "7421946f-1154-4962-b5fd-09e0d5ac3f77",
   "metadata": {},
   "source": [
    "Not bad at all."
   ]
  },
  {
   "cell_type": "markdown",
   "id": "4ef1ab1a-7a99-4db1-8187-19b62a5f2282",
   "metadata": {},
   "source": [
    "### Reading our yaml file"
   ]
  },
  {
   "cell_type": "markdown",
   "id": "088db391-472b-4151-98c4-4dcd957f6f94",
   "metadata": {},
   "source": [
    "Ok, now let's take another look at our yaml file, and try to understand what's going on."
   ]
  },
  {
   "cell_type": "markdown",
   "id": "ebf4bbae-6fdf-4b0b-946c-34ec894e596d",
   "metadata": {},
   "source": [
    "```yaml\n",
    "service: restaurants-app\n",
    "provider:\n",
    "  name: aws\n",
    "  stage: project\n",
    "  runtime: python3.9\n",
    "  region: us-east-1\n",
    "functions:\n",
    "  txqueryfn:\n",
    "      handler: main.lambda_handler\n",
    "resources:\n",
    "  Resources:\n",
    "    S3Assets:\n",
    "      Type: AWS::S3::Bucket\n",
    "      Properties:\n",
    "        BucketName: txrestaurantreceipts\n",
    "```"
   ]
  },
  {
   "cell_type": "markdown",
   "id": "5e3f4dda-8831-4dbe-87a8-481c1761b8e2",
   "metadata": {},
   "source": [
    "The yaml file above should be fairly readable.\n",
    "\n",
    "The service is name of our application (just no underscores), and under provider we specify aws and our region.  The `stage` is an AWS feature, that allows us to deploy an architecture for say testing, and production.\n",
    "\n",
    "And functions are where we list our lambda function.  By specifying our handler, serverless will look for a `main.py` file that has a function called lambda handler."
   ]
  },
  {
   "cell_type": "markdown",
   "id": "93da9023-fcb2-49eb-be5b-042dca2a9d29",
   "metadata": {},
   "source": [
    "### Adding a trigger"
   ]
  },
  {
   "cell_type": "markdown",
   "id": "e405333a-0e23-4c9f-884d-afa9a7505cac",
   "metadata": {},
   "source": [
    "Ok, now let's update our `serverless.yml` file so that it's triggered by an upload to the s3 bucket.  You can see this code in `2-lambda-fn-trigger`."
   ]
  },
  {
   "cell_type": "markdown",
   "id": "ba1e7b91-7bcc-4a44-bf45-59111cef9cd1",
   "metadata": {},
   "source": [
    "```yaml\n",
    "service: restaurants-app\n",
    "provider:\n",
    "  name: aws\n",
    "  runtime: python3.9\n",
    "  stage: project\n",
    "  region: us-east-1\n",
    "  iam:\n",
    "    role:\n",
    "      statements:\n",
    "        - Effect: Allow\n",
    "          Action:\n",
    "            - 's3:GetObject'\n",
    "          Resource:\n",
    "            - 'arn:aws:s3:::txrestaurantreceipts/*'\n",
    "functions:\n",
    "  getreceipts:\n",
    "    handler: main.lambda_handler\n",
    "    events:\n",
    "      - s3:\n",
    "          bucket: txrestaurantreceipts\n",
    "          event: s3:ObjectCreated:*\n",
    "```"
   ]
  },
  {
   "cell_type": "markdown",
   "id": "ec668ff5-70db-4bee-bf6e-bb71a6eee5a9",
   "metadata": {},
   "source": [
    "Ok, so there are two changes here. \n",
    "\n",
    "* First, at the bottom you can see that under the function we have an `events` listed, which specifies our lambda function should be triggered when s3 object is created.\n",
    "\n",
    "* Second is that we set a permission to allow our lambda function to read objects.  We specify the permission under the `provider` section, and the permissions will be granted to all functions in the yml file."
   ]
  },
  {
   "cell_type": "markdown",
   "id": "860b4d95-82fc-4391-a376-be0710629b1e",
   "metadata": {},
   "source": [
    "> **Notice** that this time we **do not** have a `resources` key.  This is because, the bucket will automatically be created because it's listed under `events`.  "
   ]
  },
  {
   "cell_type": "markdown",
   "id": "67f790df-3a72-46e8-8064-5c7f5566a83f",
   "metadata": {},
   "source": [
    "If you go to `2-lambda-fn-trigger`, you'll see the corresponding code.  And if you cd into that folder and type `sls deploy` you'll see services deployed to your aws account (just change the bucket names)."
   ]
  },
  {
   "cell_type": "markdown",
   "id": "6c35f658-6426-4f37-9d93-6a0df67cfa1f",
   "metadata": {},
   "source": [
    "> <img src=\"./updated-trigger.png\" width=\"60%\">"
   ]
  },
  {
   "cell_type": "markdown",
   "id": "f3cd5823-46d9-4217-a49c-279ccc401e39",
   "metadata": {},
   "source": [
    "> And importantly, if you click on the role associated with the lambda, you can see that adding our Get object permission added the permission to our lambda function."
   ]
  },
  {
   "cell_type": "markdown",
   "id": "bcdbc24e-8cb8-4dee-b65b-37dec1349363",
   "metadata": {},
   "source": [
    "<img src=\"./specify-permissions.png\">"
   ]
  },
  {
   "cell_type": "markdown",
   "id": "b2674cb9-c130-48f1-af8e-ebee58f22f66",
   "metadata": {},
   "source": [
    "### Serverless and cloudformation"
   ]
  },
  {
   "cell_type": "markdown",
   "id": "e98ca99a-4a0b-4742-b5d3-c5707ed7388b",
   "metadata": {},
   "source": [
    "If you look closely at any of the folders that has a serverless.yml file, you'll also see a `.serverless` folder.  And if you look inside of there, you'll see various cloudformation files."
   ]
  },
  {
   "cell_type": "markdown",
   "id": "6ba4da55-9363-441c-9c86-9cb597529537",
   "metadata": {},
   "source": [
    "<img src=\"./cloudformation.png\">"
   ]
  },
  {
   "cell_type": "markdown",
   "id": "858c92fa-4869-432f-b613-3d4278fe011a",
   "metadata": {},
   "source": [
    "Cloudformation is AWS's infrastructure as code tool.  And being an IAC tool, it allows us to describe our cloud stack as code, in those json files.\n",
    "\n",
    "A lot of companies use cloudformation, but it's just more complicated to work with.  So we write a serverless.yml file, and when we call `sls deploy` it uses that file to produce the cloudformation files which are sent to AWS to update our stack."
   ]
  },
  {
   "cell_type": "markdown",
   "id": "b45901b1-8c3b-46e3-8450-6cf1221664bf",
   "metadata": {},
   "source": [
    "### IAC vs Boto"
   ]
  },
  {
   "cell_type": "markdown",
   "id": "50a4dde8-3040-4db5-af35-a2736647cfad",
   "metadata": {},
   "source": [
    "So how does an IAC tool like cloudformation or serverless compare to boto?  Here's how we'll divide the responsibilities.\n",
    "\n",
    "* We'll use serverless to set up the infrastructure -- for example create a lambda function, or an S3 bucket, or setup permissions.\n",
    "* We'll use boto to execute code *with* this infrastructure.  For example, we can use boto to connect to athena and query our s3 instance.\n",
    "\n",
    "To use an analogy, reading a `serverless.yml` is essentially like reading a blueprint for a house (or a campus, considering all that's involved).  Calling `sls deploy` updates or builds this campus.  And then when we have code like `boto.client('athena')`, these are the different individuals accomplishing tasks on our campus.  \n"
   ]
  },
  {
   "cell_type": "markdown",
   "id": "cef5f34e-7d64-4e36-aaee-322d95ece175",
   "metadata": {},
   "source": [
    "### Resources\n",
    "\n",
    "[Serverless](https://aws.amazon.com/blogs/opensource/simplify-development-using-aws-lambda-container-image-with-a-serverless-framework/)\n",
    "\n",
    "[Serverless AWS S3 trigger](https://www.serverless.com/framework/docs/providers/aws/events/s3)\n",
    "\n",
    "[Serverless vs Terraform](https://openupthecloud.com/serverless-approaches-comparison/)"
   ]
  }
 ],
 "metadata": {
  "kernelspec": {
   "display_name": "Python 3 (ipykernel)",
   "language": "python",
   "name": "python3"
  },
  "language_info": {
   "codemirror_mode": {
    "name": "ipython",
    "version": 3
   },
   "file_extension": ".py",
   "mimetype": "text/x-python",
   "name": "python",
   "nbconvert_exporter": "python",
   "pygments_lexer": "ipython3",
   "version": "3.9.12"
  }
 },
 "nbformat": 4,
 "nbformat_minor": 5
}
